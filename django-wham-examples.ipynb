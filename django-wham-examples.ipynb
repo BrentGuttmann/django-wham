{
 "metadata": {
  "name": "",
  "signature": "sha256:e8d714f6ed1fa9308039bb0050949d349cd6a74aacb333472170af2c10725b62"
 },
 "nbformat": 3,
 "nbformat_minor": 0,
 "worksheets": [
  {
   "cells": [
    {
     "cell_type": "code",
     "collapsed": false,
     "input": [
      "from IPython.display import display, Image, HTML"
     ],
     "language": "python",
     "metadata": {},
     "outputs": [],
     "prompt_number": 2
    },
    {
     "cell_type": "heading",
     "level": 1,
     "metadata": {},
     "source": [
      " "
     ]
    },
    {
     "cell_type": "heading",
     "level": 1,
     "metadata": {},
     "source": [
      "django-wham demo"
     ]
    },
    {
     "cell_type": "heading",
     "level": 1,
     "metadata": {},
     "source": [
      " "
     ]
    },
    {
     "cell_type": "heading",
     "level": 3,
     "metadata": {},
     "source": [
      "Twitter: get my latest tweets"
     ]
    },
    {
     "cell_type": "code",
     "collapsed": true,
     "input": [
      "djangomelb = TwitterUser.objects.get(screen_name='mbylstra')\n",
      "for tweet in djangomelb.tweets.all()[:5]:   \n",
      "    display(tweet)"
     ],
     "language": "python",
     "metadata": {
      "slideshow": {
       "slide_type": "subslide"
      }
     },
     "outputs": [
      {
       "output_type": "stream",
       "stream": "stdout",
       "text": [
        "https://api.twitter.com/1.1/users/show.json?screen_name=mbylstra\n",
        "https://api.twitter.com/1.1/statuses/user_timeline.json?count=200&exclude_replies=true&user_id=203788575&include_rts=false\n"
       ]
      },
      {
       "html": [
        "<hr>\n",
        "<h4>doing a live demo of django-wham (https://t.co/TP7Xw3Ct5K) at @MelbDjango . did it work?</h4>\n",
        "<p>3 retweets </p>\n"
       ],
       "metadata": {},
       "output_type": "display_data",
       "text": [
        "<Tweet: doing a live demo of django-wham (https://t.co/TP7Xw3Ct5K) at @MelbDjango . did it work?>"
       ]
      },
      {
       "html": [
        "<hr>\n",
        "<h4>Not possible to jam with someone in another country without soundblasterlike 50ms lag. Light&#39;s too slow. That&#39;s lame.\n",
        "http://t.co/6spMjUEDz3</h4>\n",
        "<p>0 retweets </p>\n"
       ],
       "metadata": {},
       "output_type": "display_data",
       "text": [
        "<Tweet: Not possible to jam with someone in another country without soundblasterlike 50ms lag. Light's too slow. That's lame.\n",
        "http://t.co/6spMjUEDz3>"
       ]
      },
      {
       "html": [
        "<hr>\n",
        "<h4>new ratings of front end frameworks after spending a day with React. React: 9/10, Angular: 2/10, Backbone: 5/10.</h4>\n",
        "<p>0 retweets </p>\n"
       ],
       "metadata": {},
       "output_type": "display_data",
       "text": [
        "<Tweet: new ratings of front end frameworks after spending a day with React. React: 9/10, Angular: 2/10, Backbone: 5/10.>"
       ]
      },
      {
       "html": [
        "<hr>\n",
        "<h4>Trying to work out which front end framework to invest in. Current ratings out of ten: React: 8, Angular: 4, Backbone: 6</h4>\n",
        "<p>0 retweets </p>\n"
       ],
       "metadata": {},
       "output_type": "display_data",
       "text": [
        "<Tweet: Trying to work out which front end framework to invest in. Current ratings out of ten: React: 8, Angular: 4, Backbone: 6>"
       ]
      },
      {
       "html": [
        "<hr>\n",
        "<h4>looking forward to using #nunjucks templates (http://t.co/mWPSF7FkI6) and ditching #handlebars (http://t.co/iBTjh1ajPz)</h4>\n",
        "<p>0 retweets </p>\n"
       ],
       "metadata": {},
       "output_type": "display_data",
       "text": [
        "<Tweet: looking forward to using #nunjucks templates (http://t.co/mWPSF7FkI6) and ditching #handlebars (http://t.co/iBTjh1ajPz)>"
       ]
      }
     ],
     "prompt_number": 5
    },
    {
     "cell_type": "heading",
     "level": 6,
     "metadata": {},
     "source": [
      "sort @melbdjango tweets by retweet count"
     ]
    },
    {
     "cell_type": "code",
     "collapsed": true,
     "input": [
      "djangomelb = TwitterUser.objects.get(screen_name='MelbDjango')\n",
      "for tweet in djangomelb.tweets.all().order_by('-retweet_count')[:5]:   \n",
      "    display(tweet)"
     ],
     "language": "python",
     "metadata": {
      "slideshow": {
       "slide_type": "subslide"
      }
     },
     "outputs": [
      {
       "output_type": "stream",
       "stream": "stdout",
       "text": [
        "https://api.twitter.com/1.1/users/show.json?screen_name=MelbDjango\n",
        "https://api.twitter.com/1.1/statuses/user_timeline.json?count=200&exclude_replies=true&user_id=1375881193&include_rts=false\n"
       ]
      },
      {
       "html": [
        "<hr>\n",
        "<h4>Last up tonight, @GVRV showing us how to use requests (HT @kennethreitz) and BS4 to rip the web apart! http://t.co/LvUCwHYjp6 #melbdjango</h4>\n",
        "<p>5 retweets </p>\n"
       ],
       "metadata": {},
       "output_type": "display_data",
       "text": [
        "<Tweet: Last up tonight, @GVRV showing us how to use requests (HT @kennethreitz) and BS4 to rip the web apart! http://t.co/LvUCwHYjp6 #melbdjango>"
       ]
      },
      {
       "html": [
        "<hr>\n",
        "<h4>Our first Meetup is May 9th at 6:00pm at 114 Hoddle Street, Abbotsford.  http://t.co/An1wyMjyVf</h4>\n",
        "<p>4 retweets </p>\n"
       ],
       "metadata": {},
       "output_type": "display_data",
       "text": [
        "<Tweet: Our first Meetup is May 9th at 6:00pm at 114 Hoddle Street, Abbotsford.  http://t.co/An1wyMjyVf>"
       ]
      },
      {
       "html": [
        "<hr>\n",
        "<h4>MelbDjango - number 8! - is on this Thursday with talks from @elbaschid, @hzy_ and @Zensunni21 - rsvp here: http://t.co/fAqRJcO5w9</h4>\n",
        "<p>4 retweets </p>\n"
       ],
       "metadata": {},
       "output_type": "display_data",
       "text": [
        "<Tweet: MelbDjango - number 8! - is on this Thursday with talks from @elbaschid, @hzy_ and @Zensunni21 - rsvp here: http://t.co/fAqRJcO5w9>"
       ]
      },
      {
       "html": [
        "<hr>\n",
        "<h4>MelbDjango 1.0 is going to be on May 9th and will be a ripper! PyConUS review, details about Django 1.7 and more! http://t.co/ClseAnmwRo</h4>\n",
        "<p>3 retweets </p>\n"
       ],
       "metadata": {},
       "output_type": "display_data",
       "text": [
        "<Tweet: MelbDjango 1.0 is going to be on May 9th and will be a ripper! PyConUS review, details about Django 1.7 and more! http://t.co/ClseAnmwRo>"
       ]
      },
      {
       "html": [
        "<hr>\n",
        "<h4>Currently looking for presenters for our upcoming June 13th meetup.  Please get in touch if interested.</h4>\n",
        "<p>2 retweets </p>\n"
       ],
       "metadata": {},
       "output_type": "display_data",
       "text": [
        "<Tweet: Currently looking for presenters for our upcoming June 13th meetup.  Please get in touch if interested.>"
       ]
      }
     ],
     "prompt_number": 9
    },
    {
     "cell_type": "heading",
     "level": 6,
     "metadata": {},
     "source": [
      " "
     ]
    },
    {
     "cell_type": "heading",
     "level": 5,
     "metadata": {},
     "source": [
      "this time fetch multiple pages from the Twitter API first"
     ]
    },
    {
     "cell_type": "code",
     "collapsed": true,
     "input": [
      "devops_borat = TwitterUser.objects.get(screen_name='DEVOPS_BORAT')\n",
      "for tweet in devops_borat.tweets.all(wham_pages='all').order_by('-retweet_count')[:5]:   \n",
      "    display(tweet)"
     ],
     "language": "python",
     "metadata": {
      "slideshow": {
       "slide_type": "subslide"
      }
     },
     "outputs": [
      {
       "output_type": "stream",
       "stream": "stdout",
       "text": [
        "https://api.twitter.com/1.1/users/show.json?screen_name=DEVOPS_BORAT\n",
        "https://api.twitter.com/1.1/statuses/user_timeline.json?count=200&exclude_replies=true&user_id=167499429&include_rts=false"
       ]
      },
      {
       "output_type": "stream",
       "stream": "stdout",
       "text": [
        "\n",
        "https://api.twitter.com/1.1/statuses/user_timeline.json?count=200&user_id=167499429&exclude_replies=true&max_id=224215058849349633&include_rts=false"
       ]
      },
      {
       "output_type": "stream",
       "stream": "stdout",
       "text": [
        "\n",
        "https://api.twitter.com/1.1/statuses/user_timeline.json?count=200&user_id=167499429&exclude_replies=true&max_id=167097933437734912&include_rts=false"
       ]
      },
      {
       "output_type": "stream",
       "stream": "stdout",
       "text": [
        "\n",
        "https://api.twitter.com/1.1/statuses/user_timeline.json?count=200&user_id=167499429&exclude_replies=true&max_id=138823370774032384&include_rts=false"
       ]
      },
      {
       "output_type": "stream",
       "stream": "stdout",
       "text": [
        "\n",
        "https://api.twitter.com/1.1/statuses/user_timeline.json?count=200&user_id=167499429&exclude_replies=true&max_id=123213674696556544&include_rts=false"
       ]
      },
      {
       "output_type": "stream",
       "stream": "stdout",
       "text": [
        "\n",
        "https://api.twitter.com/1.1/statuses/user_timeline.json?count=200&user_id=167499429&exclude_replies=true&max_id=111501333714042880&include_rts=false"
       ]
      },
      {
       "output_type": "stream",
       "stream": "stdout",
       "text": [
        "\n",
        "https://api.twitter.com/1.1/statuses/user_timeline.json?count=200&user_id=167499429&exclude_replies=true&max_id=58897648912044033&include_rts=false"
       ]
      },
      {
       "output_type": "stream",
       "stream": "stdout",
       "text": [
        "\n",
        "https://api.twitter.com/1.1/statuses/user_timeline.json?count=200&user_id=167499429&exclude_replies=true&max_id=43816440339509248&include_rts=false"
       ]
      },
      {
       "output_type": "stream",
       "stream": "stdout",
       "text": [
        "\n",
        "https://api.twitter.com/1.1/statuses/user_timeline.json?count=200&user_id=167499429&exclude_replies=true&max_id=34634111242997762&include_rts=false"
       ]
      },
      {
       "output_type": "stream",
       "stream": "stdout",
       "text": [
        "\n",
        "https://api.twitter.com/1.1/statuses/user_timeline.json?count=200&user_id=167499429&exclude_replies=true&max_id=27996316839&include_rts=false"
       ]
      },
      {
       "output_type": "stream",
       "stream": "stdout",
       "text": [
        "\n",
        "https://api.twitter.com/1.1/statuses/user_timeline.json?count=200&user_id=167499429&exclude_replies=true&max_id=21432370447&include_rts=false"
       ]
      },
      {
       "output_type": "stream",
       "stream": "stdout",
       "text": [
        "\n",
        "https://api.twitter.com/1.1/statuses/user_timeline.json?count=200&user_id=167499429&exclude_replies=true&max_id=20897416014&include_rts=false"
       ]
      },
      {
       "output_type": "stream",
       "stream": "stdout",
       "text": [
        "\n",
        "https://api.twitter.com/1.1/statuses/user_timeline.json?count=200&user_id=167499429&exclude_replies=true&max_id=20157055189&include_rts=false"
       ]
      },
      {
       "output_type": "stream",
       "stream": "stdout",
       "text": [
        "\n",
        "https://api.twitter.com/1.1/statuses/user_timeline.json?count=200&user_id=167499429&exclude_replies=true&max_id=18797920712&include_rts=false"
       ]
      },
      {
       "output_type": "stream",
       "stream": "stdout",
       "text": [
        "\n",
        "https://api.twitter.com/1.1/statuses/user_timeline.json?count=200&user_id=167499429&exclude_replies=true&max_id=18710208888&include_rts=false"
       ]
      },
      {
       "output_type": "stream",
       "stream": "stdout",
       "text": [
        "\n"
       ]
      },
      {
       "html": [
        "<hr>\n",
        "<h4>To make error is human. To propagate error to all server in automatic way is #devops.</h4>\n",
        "<p>2104 retweets </p>\n"
       ],
       "metadata": {},
       "output_type": "display_data",
       "text": [
        "<Tweet: To make error is human. To propagate error to all server in automatic way is #devops.>"
       ]
      },
      {
       "html": [
        "<hr>\n",
        "<h4>Big Data is any thing which is crash Excel.</h4>\n",
        "<p>2101 retweets </p>\n"
       ],
       "metadata": {},
       "output_type": "display_data",
       "text": [
        "<Tweet: Big Data is any thing which is crash Excel.>"
       ]
      },
      {
       "html": [
        "<hr>\n",
        "<h4>Word &quot;impossible&quot; is not exist in devops vocabulary. Instead we are use &quot;done by Q4&quot;.</h4>\n",
        "<p>1633 retweets </p>\n"
       ],
       "metadata": {},
       "output_type": "display_data",
       "text": [
        "<Tweet: Word \"impossible\" is not exist in devops vocabulary. Instead we are use \"done by Q4\".>"
       ]
      },
      {
       "html": [
        "<hr>\n",
        "<h4>Junior programmer is everybody can able understand your code is wrong. Senior programmer is nobody can able understand your code is wrong.</h4>\n",
        "<p>1164 retweets </p>\n"
       ],
       "metadata": {},
       "output_type": "display_data",
       "text": [
        "<Tweet: Junior programmer is everybody can able understand your code is wrong. Senior programmer is nobody can able understand your code is wrong.>"
       ]
      },
      {
       "html": [
        "<hr>\n",
        "<h4>Software project 1) On time 2) On budget 3) With quality. You can not able pick any.</h4>\n",
        "<p>1072 retweets </p>\n"
       ],
       "metadata": {},
       "output_type": "display_data",
       "text": [
        "<Tweet: Software project 1) On time 2) On budget 3) With quality. You can not able pick any.>"
       ]
      }
     ],
     "prompt_number": 10
    },
    {
     "cell_type": "heading",
     "level": 1,
     "metadata": {},
     "source": [
      " "
     ]
    },
    {
     "cell_type": "heading",
     "level": 3,
     "metadata": {},
     "source": [
      "Spotify"
     ]
    },
    {
     "cell_type": "heading",
     "level": 5,
     "metadata": {},
     "source": [
      "search for artists using filter(name__icontains=...)"
     ]
    },
    {
     "cell_type": "code",
     "collapsed": false,
     "input": [
      "for artist in SpotifyArtist.objects.filter(name__icontains='django')[:10]:\n",
      "    print artist.name"
     ],
     "language": "python",
     "metadata": {},
     "outputs": [
      {
       "output_type": "stream",
       "stream": "stdout",
       "text": [
        "https://api.spotify.com/v1/search?q=django&type=artist\n",
        "Django Reinhardt"
       ]
      },
      {
       "output_type": "stream",
       "stream": "stdout",
       "text": [
        "\n",
        "Django Django\n",
        "Django\n",
        "Django Reinhardt & St\u00e9phane Grappelli\n",
        "Django Reinhart\n",
        "Interview with Django Django\n",
        "King Django\n",
        "Pearl Django\n",
        "Django Bates\n",
        "Prince Django\n"
       ]
      }
     ],
     "prompt_number": 1
    },
    {
     "cell_type": "heading",
     "level": 6,
     "metadata": {},
     "source": [
      "sort albums by popularity"
     ]
    },
    {
     "cell_type": "code",
     "collapsed": false,
     "input": [
      "artist = SpotifyArtist.objects.filter(name__icontains='radiohead')[0]\n",
      "for album in artist.albums.all().order_by('-popularity')[:20]:\n",
      "    print 'popularity: ', album.popularity, ' album:', album.name"
     ],
     "language": "python",
     "metadata": {},
     "outputs": [
      {
       "output_type": "stream",
       "stream": "stdout",
       "text": [
        "https://api.spotify.com/v1/search?q=radiohead&type=artist\n",
        "https://api.spotify.com/v1/artists/4Z8W4fKeB5YxbusRsdQVPb/albums"
       ]
      },
      {
       "output_type": "stream",
       "stream": "stdout",
       "text": [
        "\n",
        "popularity: "
       ]
      },
      {
       "output_type": "stream",
       "stream": "stdout",
       "text": [
        " None  album: TKOL RMX8\n",
        "popularity:  None  album: Hail To The Thief\n",
        "popularity:  None  album: The Bends [Collectors Edition]\n",
        "popularity:  None  album: Kid A (Collector's Edition)\n",
        "popularity:  None  album: OK Computer\n",
        "popularity:  None  album: The King Of Limbs\n",
        "popularity:  None  album: I Might Be Wrong\n",
        "popularity:  None  album: TKOL RMX 1234567\n",
        "popularity:  None  album: The Daily Mail & Staircase\n",
        "popularity:  None  album: Pablo Honey\n",
        "popularity:  None  album: Hail To The Thief (Collector's Edition)\n",
        "popularity:  None  album: TKOL RMX 1234567\n",
        "popularity:  None  album: OK Computer [Collector's Edition]\n",
        "popularity:  None  album: Pablo Honey [Collector's Edition]\n",
        "popularity:  None  album: The King of Limbs\n",
        "popularity:  None  album: Kid A\n",
        "popularity:  None  album: The Bends\n",
        "popularity:  None  album: Amnesiac\n",
        "popularity:  None  album: The Daily Mail & Staircase\n",
        "popularity:  None  album: Amnesiac (Collector's Edition)\n"
       ]
      }
     ],
     "prompt_number": 2
    },
    {
     "cell_type": "heading",
     "level": 6,
     "metadata": {},
     "source": [
      "this time use wham_depth=2 to get popularity data first"
     ]
    },
    {
     "cell_type": "code",
     "collapsed": false,
     "input": [
      "artist = SpotifyArtist.objects.filter(name__icontains='radiohead')[0]\n",
      "for album in artist.albums.all(wham_depth=2).order_by('-popularity')[:20]:\n",
      "    print 'popularity: ', album.popularity, ' album:', album.name"
     ],
     "language": "python",
     "metadata": {},
     "outputs": [
      {
       "output_type": "stream",
       "stream": "stdout",
       "text": [
        "https://api.spotify.com/v1/search?q=radiohead&type=artist\n",
        "https://api.spotify.com/v1/artists/4Z8W4fKeB5YxbusRsdQVPb/albums\n",
        "https://api.spotify.com/v1/albums/3ufFjbaWeMYzuuilEPCNqp"
       ]
      },
      {
       "output_type": "stream",
       "stream": "stdout",
       "text": [
        "\n",
        "https://api.spotify.com/v1/albums/5RKpp959hq0Z0QqEtqKlTo"
       ]
      },
      {
       "output_type": "stream",
       "stream": "stdout",
       "text": [
        "\n",
        "https://api.spotify.com/v1/albums/3EkYAh7JiJNSUxzhVLJqnL"
       ]
      },
      {
       "output_type": "stream",
       "stream": "stdout",
       "text": [
        "\n",
        "https://api.spotify.com/v1/albums/6CeulIpMN8ZxqlMk5Gn3S3"
       ]
      },
      {
       "output_type": "stream",
       "stream": "stdout",
       "text": [
        "\n",
        "https://api.spotify.com/v1/albums/1OAMyQGaooBR0qjxDEjG4t"
       ]
      },
      {
       "output_type": "stream",
       "stream": "stdout",
       "text": [
        "\n",
        "https://api.spotify.com/v1/albums/5GcgkRjhWDxrOTDk0TJQK8"
       ]
      },
      {
       "output_type": "stream",
       "stream": "stdout",
       "text": [
        "\n",
        "https://api.spotify.com/v1/albums/3Pwt7BdibsMjzxeBUtIf9n"
       ]
      },
      {
       "output_type": "stream",
       "stream": "stdout",
       "text": [
        "\n",
        "https://api.spotify.com/v1/albums/7mUKceir3qJ2WeQETnvz8g"
       ]
      },
      {
       "output_type": "stream",
       "stream": "stdout",
       "text": [
        "\n",
        "https://api.spotify.com/v1/albums/6eIhOXRKIOXa71UBX7WIv5"
       ]
      },
      {
       "output_type": "stream",
       "stream": "stdout",
       "text": [
        "\n",
        "https://api.spotify.com/v1/albums/6J6nlVu4JMveJz0YM9zDgL"
       ]
      },
      {
       "output_type": "stream",
       "stream": "stdout",
       "text": [
        "\n",
        "https://api.spotify.com/v1/albums/21bzeb9EncWXomkuQUrlvP"
       ]
      },
      {
       "output_type": "stream",
       "stream": "stdout",
       "text": [
        "\n",
        "https://api.spotify.com/v1/albums/5bNn3KPcrlgLmhRXj4d2EX"
       ]
      },
      {
       "output_type": "stream",
       "stream": "stdout",
       "text": [
        "\n",
        "https://api.spotify.com/v1/albums/2fGCAYUMssLKiUAoNdxGLx"
       ]
      },
      {
       "output_type": "stream",
       "stream": "stdout",
       "text": [
        "\n",
        "https://api.spotify.com/v1/albums/1P1LYaTMV1LnDiHA3LOows"
       ]
      },
      {
       "output_type": "stream",
       "stream": "stdout",
       "text": [
        "\n",
        "https://api.spotify.com/v1/albums/6Lmj92VLXz7Z5xcsjXBMSC"
       ]
      },
      {
       "output_type": "stream",
       "stream": "stdout",
       "text": [
        "\n",
        "https://api.spotify.com/v1/albums/6AZv3m27uyRxi8KyJSfUxL"
       ]
      },
      {
       "output_type": "stream",
       "stream": "stdout",
       "text": [
        "\n",
        "https://api.spotify.com/v1/albums/4YYwK9eAIWEUCYdvf40Nnk"
       ]
      },
      {
       "output_type": "stream",
       "stream": "stdout",
       "text": [
        "\n",
        "https://api.spotify.com/v1/albums/3yvE3OgaiJjnqLcRuZ0SVo"
       ]
      },
      {
       "output_type": "stream",
       "stream": "stdout",
       "text": [
        "\n",
        "https://api.spotify.com/v1/albums/7Aw5JgVvrJvBo6WMGSEpUb"
       ]
      },
      {
       "output_type": "stream",
       "stream": "stdout",
       "text": [
        "\n",
        "https://api.spotify.com/v1/albums/1DsxZ1mzgyAjs277XNoY26"
       ]
      },
      {
       "output_type": "stream",
       "stream": "stdout",
       "text": [
        "\n",
        "popularity: "
       ]
      },
      {
       "output_type": "stream",
       "stream": "stdout",
       "text": [
        " 73  album: Pablo Honey [Collector's Edition]\n",
        "popularity:  72  album: OK Computer [Collector's Edition]\n",
        "popularity:  68  album: The Bends [Collectors Edition]\n",
        "popularity:  66  album: OK Computer\n",
        "popularity:  65  album: The King of Limbs\n",
        "popularity:  65  album: Kid A\n",
        "popularity:  64  album: Hail To The Thief (Collector's Edition)\n",
        "popularity:  63  album: Hail To The Thief\n",
        "popularity:  62  album: Kid A (Collector's Edition)\n",
        "popularity:  62  album: The Bends\n",
        "popularity:  62  album: Amnesiac (Collector's Edition)\n",
        "popularity:  61  album: TKOL RMX 1234567\n",
        "popularity:  58  album: Pablo Honey\n",
        "popularity:  55  album: Amnesiac\n",
        "popularity:  49  album: I Might Be Wrong\n",
        "popularity:  45  album: The King Of Limbs\n",
        "popularity:  43  album: The Daily Mail & Staircase\n",
        "popularity:  31  album: TKOL RMX 1234567\n",
        "popularity:  23  album: The Daily Mail & Staircase\n",
        "popularity:  18  album: TKOL RMX8\n"
       ]
      }
     ],
     "prompt_number": 3
    },
    {
     "cell_type": "heading",
     "level": 1,
     "metadata": {},
     "source": [
      " "
     ]
    },
    {
     "cell_type": "heading",
     "level": 3,
     "metadata": {},
     "source": [
      "Instagram"
     ]
    },
    {
     "cell_type": "code",
     "collapsed": false,
     "input": [
      "for post in InstagramTag.objects.get(pk='pyconau').posts.all():\n",
      "    display(Image(post.image_url))"
     ],
     "language": "python",
     "metadata": {},
     "outputs": [
      {
       "ename": "NameError",
       "evalue": "name 'InstagramTag' is not defined",
       "output_type": "pyerr",
       "traceback": [
        "\u001b[1;31m---------------------------------------------------------------------------\u001b[0m\n\u001b[1;31mNameError\u001b[0m                                 Traceback (most recent call last)",
        "\u001b[1;32m<ipython-input-6-e1e8ec1b878a>\u001b[0m in \u001b[0;36m<module>\u001b[1;34m()\u001b[0m\n\u001b[1;32m----> 1\u001b[1;33m \u001b[1;32mfor\u001b[0m \u001b[0mpost\u001b[0m \u001b[1;32min\u001b[0m \u001b[0mInstagramTag\u001b[0m\u001b[1;33m.\u001b[0m\u001b[0mobjects\u001b[0m\u001b[1;33m.\u001b[0m\u001b[0mget\u001b[0m\u001b[1;33m(\u001b[0m\u001b[0mpk\u001b[0m\u001b[1;33m=\u001b[0m\u001b[1;34m'pyconau'\u001b[0m\u001b[1;33m)\u001b[0m\u001b[1;33m.\u001b[0m\u001b[0mposts\u001b[0m\u001b[1;33m.\u001b[0m\u001b[0mall\u001b[0m\u001b[1;33m(\u001b[0m\u001b[1;33m)\u001b[0m\u001b[1;33m:\u001b[0m\u001b[1;33m\u001b[0m\u001b[0m\n\u001b[0m\u001b[0;32m      2\u001b[0m     \u001b[0mdisplay\u001b[0m\u001b[1;33m(\u001b[0m\u001b[0mImage\u001b[0m\u001b[1;33m(\u001b[0m\u001b[0mpost\u001b[0m\u001b[1;33m.\u001b[0m\u001b[0mimage_url\u001b[0m\u001b[1;33m)\u001b[0m\u001b[1;33m)\u001b[0m\u001b[1;33m\u001b[0m\u001b[0m\n",
        "\u001b[1;31mNameError\u001b[0m: name 'InstagramTag' is not defined"
       ]
      }
     ],
     "prompt_number": 6
    },
    {
     "cell_type": "heading",
     "level": 1,
     "metadata": {},
     "source": [
      " "
     ]
    },
    {
     "cell_type": "heading",
     "level": 3,
     "metadata": {},
     "source": [
      "Endpoint/Model documentation"
     ]
    },
    {
     "cell_type": "code",
     "collapsed": false,
     "input": [
      "Tweet.objects"
     ],
     "language": "python",
     "metadata": {},
     "outputs": [
      {
       "html": [
        "<table>\n",
        "    <thead>\n",
        "        <tr>\n",
        "            <th></th>\n",
        "            <th>Field</th>\n",
        "            <th>Type</th>\n",
        "            <th>Detail Field</th>\n",
        "        </tr>\n",
        "    </thead>\n",
        "    <tbody>\n",
        "        \n",
        "            <tr>\n",
        "                <td>\u26b7</td>\n",
        "                <td>id</td>\n",
        "                <td>integer</td>\n",
        "                <td></td>\n",
        "            </tr>\n",
        "        \n",
        "            <tr>\n",
        "                <td></td>\n",
        "                <td>text</td>\n",
        "                <td>text</td>\n",
        "                <td></td>\n",
        "            </tr>\n",
        "        \n",
        "            <tr>\n",
        "                <td></td>\n",
        "                <td>created_at</td>\n",
        "                <td></td>\n",
        "                <td></td>\n",
        "            </tr>\n",
        "        \n",
        "            <tr>\n",
        "                <td></td>\n",
        "                <td>retweet_count</td>\n",
        "                <td>integer</td>\n",
        "                <td></td>\n",
        "            </tr>\n",
        "        \n",
        "            <tr>\n",
        "                <td></td>\n",
        "                <td>favourites_count</td>\n",
        "                <td>integer</td>\n",
        "                <td></td>\n",
        "            </tr>\n",
        "        \n",
        "    </tbody>\n",
        "</table>"
       ],
       "metadata": {},
       "output_type": "pyout",
       "prompt_number": 4,
       "text": [
        "<wham.models.WhamManager at 0x7f05fd6632d0>"
       ]
      }
     ],
     "prompt_number": 4
    },
    {
     "cell_type": "code",
     "collapsed": false,
     "input": [
      "SpotifyAlbum.objects"
     ],
     "language": "python",
     "metadata": {},
     "outputs": [
      {
       "html": [
        "<table>\n",
        "    <thead>\n",
        "        <tr>\n",
        "            <th></th>\n",
        "            <th>Field</th>\n",
        "            <th>Type</th>\n",
        "            <th>Detail Field</th>\n",
        "        </tr>\n",
        "    </thead>\n",
        "    <tbody>\n",
        "        \n",
        "            <tr>\n",
        "                <td>\u26b7</td>\n",
        "                <td>id</td>\n",
        "                <td>char</td>\n",
        "                <td></td>\n",
        "            </tr>\n",
        "        \n",
        "            <tr>\n",
        "                <td></td>\n",
        "                <td>name</td>\n",
        "                <td>text</td>\n",
        "                <td></td>\n",
        "            </tr>\n",
        "        \n",
        "            <tr>\n",
        "                <td></td>\n",
        "                <td>release_date</td>\n",
        "                <td>text</td>\n",
        "                <td></td>\n",
        "            </tr>\n",
        "        \n",
        "            <tr>\n",
        "                <td></td>\n",
        "                <td>popularity</td>\n",
        "                <td>integer</td>\n",
        "                <td>\u2714</td>\n",
        "            </tr>\n",
        "        \n",
        "    </tbody>\n",
        "</table>"
       ],
       "metadata": {},
       "output_type": "pyout",
       "prompt_number": 5,
       "text": [
        "<wham.models.WhamManager at 0x7f05fd658250>"
       ]
      }
     ],
     "prompt_number": 5
    },
    {
     "cell_type": "code",
     "collapsed": false,
     "input": [],
     "language": "python",
     "metadata": {},
     "outputs": []
    }
   ],
   "metadata": {}
  }
 ]
}