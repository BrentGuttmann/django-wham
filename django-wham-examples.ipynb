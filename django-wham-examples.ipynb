{
 "metadata": {
  "name": "",
  "signature": "sha256:b862582ca478b578ce37d93014c27b3d4a5670786f9d0f5a5a236c365bc3bbd8"
 },
 "nbformat": 3,
 "nbformat_minor": 0,
 "worksheets": [
  {
   "cells": [
    {
     "cell_type": "code",
     "collapsed": false,
     "input": [
      "from IPython.display import display, Image, HTML"
     ],
     "language": "python",
     "metadata": {},
     "outputs": [],
     "prompt_number": 1
    },
    {
     "cell_type": "heading",
     "level": 1,
     "metadata": {},
     "source": [
      " "
     ]
    },
    {
     "cell_type": "heading",
     "level": 1,
     "metadata": {},
     "source": [
      "django-wham demo"
     ]
    },
    {
     "cell_type": "heading",
     "level": 1,
     "metadata": {},
     "source": [
      " "
     ]
    },
    {
     "cell_type": "heading",
     "level": 3,
     "metadata": {},
     "source": [
      "Twitter: get my latest tweets"
     ]
    },
    {
     "cell_type": "code",
     "collapsed": true,
     "input": [
      "djangomelb = TwitterUser.objects.get(screen_name='mbylstra')\n",
      "for tweet in djangomelb.tweets.all()[:5]:   \n",
      "    display(tweet)"
     ],
     "language": "python",
     "metadata": {
      "slideshow": {
       "slide_type": "subslide"
      }
     },
     "outputs": [
      {
       "output_type": "stream",
       "stream": "stdout",
       "text": [
        "https://api.twitter.com/1.1/users/show.json?screen_name=mbylstra\n",
        "https://api.twitter.com/1.1/statuses/user_timeline.json?count=200&exclude_replies=true&user_id=203788575&include_rts=false"
       ]
      },
      {
       "output_type": "stream",
       "stream": "stdout",
       "text": [
        "\n"
       ]
      },
      {
       "html": [
        "<hr>\n",
        "<h4>This should hopefully show up in my @DjangoConAU #djangowham demo. Please stop using the internet for a sec.</h4>\n",
        "<p>0 retweets </p>\n"
       ],
       "metadata": {},
       "output_type": "display_data",
       "text": [
        "<Tweet: This should hopefully show up in my @DjangoConAU #djangowham demo. Please stop using the internet for a sec.>"
       ]
      },
      {
       "html": [
        "<hr>\n",
        "<h4>I got round to writing a little documentation for django-wham https://t.co/TP7Xw3Ct5K</h4>\n",
        "<p>0 retweets </p>\n"
       ],
       "metadata": {},
       "output_type": "display_data",
       "text": [
        "<Tweet: I got round to writing a little documentation for django-wham https://t.co/TP7Xw3Ct5K>"
       ]
      },
      {
       "html": [
        "<hr>\n",
        "<h4>doing a live demo of django-wham (https://t.co/TP7Xw3Ct5K) at @MelbDjango . did it work?</h4>\n",
        "<p>3 retweets </p>\n"
       ],
       "metadata": {},
       "output_type": "display_data",
       "text": [
        "<Tweet: doing a live demo of django-wham (https://t.co/TP7Xw3Ct5K) at @MelbDjango . did it work?>"
       ]
      },
      {
       "html": [
        "<hr>\n",
        "<h4>Not possible to jam with someone in another country without soundblasterlike 50ms lag. Light&#39;s too slow. That&#39;s lame.\n",
        "http://t.co/6spMjUEDz3</h4>\n",
        "<p>0 retweets </p>\n"
       ],
       "metadata": {},
       "output_type": "display_data",
       "text": [
        "<Tweet: Not possible to jam with someone in another country without soundblasterlike 50ms lag. Light's too slow. That's lame.\n",
        "http://t.co/6spMjUEDz3>"
       ]
      },
      {
       "html": [
        "<hr>\n",
        "<h4>new ratings of front end frameworks after spending a day with React. React: 9/10, Angular: 2/10, Backbone: 5/10.</h4>\n",
        "<p>0 retweets </p>\n"
       ],
       "metadata": {},
       "output_type": "display_data",
       "text": [
        "<Tweet: new ratings of front end frameworks after spending a day with React. React: 9/10, Angular: 2/10, Backbone: 5/10.>"
       ]
      }
     ],
     "prompt_number": 2
    },
    {
     "cell_type": "heading",
     "level": 6,
     "metadata": {},
     "source": [
      "sort @melbdjango tweets by retweet count"
     ]
    },
    {
     "cell_type": "code",
     "collapsed": true,
     "input": [
      "djangocon = TwitterUser.objects.get(screen_name='DjangoConAU')\n",
      "for tweet in djangocon.tweets.all().order_by('-retweet_count')[:5]:   \n",
      "    display(tweet)"
     ],
     "language": "python",
     "metadata": {
      "slideshow": {
       "slide_type": "subslide"
      }
     },
     "outputs": [
      {
       "output_type": "stream",
       "stream": "stdout",
       "text": [
        "https://api.twitter.com/1.1/users/show.json?screen_name=DjangoConAU\n",
        "https://api.twitter.com/1.1/statuses/user_timeline.json?count=200&exclude_replies=true&user_id=1256563502&include_rts=false"
       ]
      },
      {
       "output_type": "stream",
       "stream": "stdout",
       "text": [
        "\n"
       ]
      },
      {
       "html": [
        "<hr>\n",
        "<h4>EMERGENCY CALL FOR PAPERS: A speaker has withdrawn from DjangoCon AU, backups have fallen through. Let us know if you can fill a 30min slot.</h4>\n",
        "<p>26 retweets </p>\n"
       ],
       "metadata": {},
       "output_type": "display_data",
       "text": [
        "<Tweet: EMERGENCY CALL FOR PAPERS: A speaker has withdrawn from DjangoCon AU, backups have fallen through. Let us know if you can fill a 30min slot.>"
       ]
      },
      {
       "html": [
        "<hr>\n",
        "<h4>Women&#39;s DjangoCon AU shirts still need some help: 13 sales needed to confirm the order. Spread the word! http://t.co/OpFp6Uktdi</h4>\n",
        "<p>11 retweets </p>\n"
       ],
       "metadata": {},
       "output_type": "display_data",
       "text": [
        "<Tweet: Women's DjangoCon AU shirts still need some help: 13 sales needed to confirm the order. Spread the word! http://t.co/OpFp6Uktdi>"
       ]
      },
      {
       "html": [
        "<hr>\n",
        "<h4>We&#39;re excited to announce that @kcunning will be keynoting @djangoconau as well as @pyconau!</h4>\n",
        "<p>11 retweets </p>\n"
       ],
       "metadata": {},
       "output_type": "display_data",
       "text": [
        "<Tweet: We're excited to announce that @kcunning will be keynoting @djangoconau as well as @pyconau!>"
       ]
      },
      {
       "html": [
        "<hr>\n",
        "<h4>Our closing keynote speaker will be @dibblego - talking about what the Django community can learn from functional programming</h4>\n",
        "<p>11 retweets </p>\n"
       ],
       "metadata": {},
       "output_type": "display_data",
       "text": [
        "<Tweet: Our closing keynote speaker will be @dibblego - talking about what the Django community can learn from functional programming>"
       ]
      },
      {
       "html": [
        "<hr>\n",
        "<h4>Announcing: Australia&#39;s first gathering of #django developers -- DjangoCon AU, July 5, prior to PyConAU July 6-7 https://t.co/gQUkEbBDaF</h4>\n",
        "<p>10 retweets </p>\n"
       ],
       "metadata": {},
       "output_type": "display_data",
       "text": [
        "<Tweet: Announcing: Australia's first gathering of #django developers -- DjangoCon AU, July 5, prior to PyConAU July 6-7 https://t.co/gQUkEbBDaF>"
       ]
      }
     ],
     "prompt_number": 3
    },
    {
     "cell_type": "heading",
     "level": 6,
     "metadata": {},
     "source": [
      " "
     ]
    },
    {
     "cell_type": "heading",
     "level": 5,
     "metadata": {},
     "source": [
      "this time fetch multiple pages from the Twitter API first"
     ]
    },
    {
     "cell_type": "code",
     "collapsed": true,
     "input": [
      "devops_borat = TwitterUser.objects.get(screen_name='DEVOPS_BORAT')\n",
      "for tweet in devops_borat.tweets.all(wham_pages='all').order_by('-retweet_count')[:5]:   \n",
      "    display(tweet)"
     ],
     "language": "python",
     "metadata": {
      "slideshow": {
       "slide_type": "subslide"
      }
     },
     "outputs": [
      {
       "output_type": "stream",
       "stream": "stdout",
       "text": [
        "https://api.twitter.com/1.1/users/show.json?screen_name=DEVOPS_BORAT\n",
        "https://api.twitter.com/1.1/statuses/user_timeline.json?count=200&exclude_replies=true&user_id=167499429&include_rts=false"
       ]
      },
      {
       "output_type": "stream",
       "stream": "stdout",
       "text": [
        "\n",
        "https://api.twitter.com/1.1/statuses/user_timeline.json?count=200&user_id=167499429&exclude_replies=true&max_id=224215058849349633&include_rts=false"
       ]
      },
      {
       "output_type": "stream",
       "stream": "stdout",
       "text": [
        "\n",
        "https://api.twitter.com/1.1/statuses/user_timeline.json?count=200&user_id=167499429&exclude_replies=true&max_id=167097933437734912&include_rts=false"
       ]
      },
      {
       "output_type": "stream",
       "stream": "stdout",
       "text": [
        "\n",
        "https://api.twitter.com/1.1/statuses/user_timeline.json?count=200&user_id=167499429&exclude_replies=true&max_id=138823370774032384&include_rts=false"
       ]
      },
      {
       "output_type": "stream",
       "stream": "stdout",
       "text": [
        "\n"
       ]
      },
      {
       "html": [
        "<hr>\n",
        "<h4>Big Data is any thing which is crash Excel.</h4>\n",
        "<p>2101 retweets </p>\n"
       ],
       "metadata": {},
       "output_type": "display_data",
       "text": [
        "<Tweet: Big Data is any thing which is crash Excel.>"
       ]
      },
      {
       "html": [
        "<hr>\n",
        "<h4>Word &quot;impossible&quot; is not exist in devops vocabulary. Instead we are use &quot;done by Q4&quot;.</h4>\n",
        "<p>1633 retweets </p>\n"
       ],
       "metadata": {},
       "output_type": "display_data",
       "text": [
        "<Tweet: Word \"impossible\" is not exist in devops vocabulary. Instead we are use \"done by Q4\".>"
       ]
      },
      {
       "html": [
        "<hr>\n",
        "<h4>Junior programmer is everybody can able understand your code is wrong. Senior programmer is nobody can able understand your code is wrong.</h4>\n",
        "<p>1164 retweets </p>\n"
       ],
       "metadata": {},
       "output_type": "display_data",
       "text": [
        "<Tweet: Junior programmer is everybody can able understand your code is wrong. Senior programmer is nobody can able understand your code is wrong.>"
       ]
      },
      {
       "html": [
        "<hr>\n",
        "<h4>Software project 1) On time 2) On budget 3) With quality. You can not able pick any.</h4>\n",
        "<p>1072 retweets </p>\n"
       ],
       "metadata": {},
       "output_type": "display_data",
       "text": [
        "<Tweet: Software project 1) On time 2) On budget 3) With quality. You can not able pick any.>"
       ]
      },
      {
       "html": [
        "<hr>\n",
        "<h4>In devops we are face fiscal cliff every year when Oracle license is up for renew.</h4>\n",
        "<p>949 retweets </p>\n"
       ],
       "metadata": {},
       "output_type": "display_data",
       "text": [
        "<Tweet: In devops we are face fiscal cliff every year when Oracle license is up for renew.>"
       ]
      }
     ],
     "prompt_number": 4
    },
    {
     "cell_type": "heading",
     "level": 1,
     "metadata": {},
     "source": [
      " "
     ]
    },
    {
     "cell_type": "heading",
     "level": 3,
     "metadata": {},
     "source": [
      "Spotify"
     ]
    },
    {
     "cell_type": "heading",
     "level": 5,
     "metadata": {},
     "source": [
      "search for artists using filter(name__icontains=...)"
     ]
    },
    {
     "cell_type": "code",
     "collapsed": false,
     "input": [
      "for artist in SpotifyArtist.objects.filter(name__icontains='django')[:10]:\n",
      "    print artist.name"
     ],
     "language": "python",
     "metadata": {},
     "outputs": []
    },
    {
     "cell_type": "heading",
     "level": 6,
     "metadata": {},
     "source": [
      "sort albums by popularity"
     ]
    },
    {
     "cell_type": "code",
     "collapsed": false,
     "input": [
      "artist = SpotifyArtist.objects.filter(name__icontains='radiohead')[0]\n",
      "for album in artist.albums.all().order_by('-popularity')[:20]:\n",
      "    print 'popularity: ', album.popularity, ' album:', album.name"
     ],
     "language": "python",
     "metadata": {},
     "outputs": []
    },
    {
     "cell_type": "heading",
     "level": 6,
     "metadata": {},
     "source": [
      "this time use wham_depth=2 to get popularity data first"
     ]
    },
    {
     "cell_type": "code",
     "collapsed": false,
     "input": [
      "artist = SpotifyArtist.objects.filter(name__icontains='radiohead')[0]\n",
      "for album in artist.albums.all(wham_depth=2).order_by('-popularity')[:20]:\n",
      "    print 'popularity: ', album.popularity, ' album:', album.name"
     ],
     "language": "python",
     "metadata": {},
     "outputs": []
    },
    {
     "cell_type": "heading",
     "level": 1,
     "metadata": {},
     "source": [
      " "
     ]
    },
    {
     "cell_type": "heading",
     "level": 1,
     "metadata": {},
     "source": [
      " "
     ]
    },
    {
     "cell_type": "heading",
     "level": 3,
     "metadata": {},
     "source": [
      "Endpoint/Model documentation"
     ]
    },
    {
     "cell_type": "code",
     "collapsed": false,
     "input": [
      "Tweet.objects"
     ],
     "language": "python",
     "metadata": {},
     "outputs": []
    },
    {
     "cell_type": "code",
     "collapsed": false,
     "input": [
      "SpotifyAlbum.objects"
     ],
     "language": "python",
     "metadata": {},
     "outputs": []
    },
    {
     "cell_type": "code",
     "collapsed": false,
     "input": [],
     "language": "python",
     "metadata": {},
     "outputs": []
    }
   ],
   "metadata": {}
  }
 ]
}